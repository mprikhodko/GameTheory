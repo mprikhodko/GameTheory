{
 "cells": [
  {
   "cell_type": "markdown",
   "metadata": {},
   "source": [
    "# Module 5 - Programming Assignment\n",
    "\n",
    "## Directions\n",
    "\n",
    "1. Change the name of this file to be your JHED id as in `jsmith299.ipynb`. Because sure you use your JHED ID (it's made out of your name and not your student id which is just letters and numbers).\n",
    "2. Make sure the notebook you submit is cleanly and fully executed. I do not grade unexecuted notebooks.\n",
    "3. Submit your notebook back in Blackboard where you downloaded this file.\n",
    "\n",
    "*Provide the output **exactly** as requested*"
   ]
  },
  {
   "cell_type": "markdown",
   "metadata": {},
   "source": [
    "## Solving Normal Form Games"
   ]
  },
  {
   "cell_type": "code",
   "execution_count": 1,
   "metadata": {},
   "outputs": [],
   "source": [
    "from typing import List, Tuple, Dict, Callable\n",
    "import numpy as np"
   ]
  },
  {
   "cell_type": "markdown",
   "metadata": {},
   "source": [
    "In the lecture we talked about the Prisoner's Dilemma game, shown here in Normal Form:\n",
    "\n",
    "Player 1 / Player 2  | Defect | Cooperate\n",
    "------------- | ------------- | -------------\n",
    "Defect  | -5, -5 | -1, -10\n",
    "Cooperate  | -10, -1 | -2, -2\n",
    "\n",
    "where the payoff to Player 1 is the left number and the payoff to Player 2 is the right number. We can represent each payoff cell as a Tuple: `(-5, -5)`, for example. We can represent each row as a List of Tuples: `[(-5, -5), (-1, -10)]` would be the first row and the entire table as a List of Lists:"
   ]
  },
  {
   "cell_type": "code",
   "execution_count": 2,
   "metadata": {},
   "outputs": [
    {
     "data": {
      "text/plain": [
       "[[(-5, -5), (-1, -10)], [(-10, -1), (-2, -2)]]"
      ]
     },
     "execution_count": 2,
     "metadata": {},
     "output_type": "execute_result"
    }
   ],
   "source": [
    "prisoners_dilemma = [\n",
    " [( -5, -5), (-1,-10)],\n",
    " [(-10, -1), (-2, -2)]]\n",
    "\n",
    "prisoners_dilemma"
   ]
  },
  {
   "cell_type": "markdown",
   "metadata": {},
   "source": [
    "in which case the strategies are represented by indices into the List of Lists. For example, `(Defect, Cooperate)` for the above game becomes `prisoners_dilemma[ 0][ 1]` and returns the payoff `(-1, -10)` because 0 is the first row of the table (\"Defect\" for Player 1) and 1 is the 2nd column of the row (\"Cooperate\" for Player 2).\n",
    "\n",
    "For this assignment, you are going write a function that uses Successive Elimination of Dominated Strategies (SEDS) to find the **pure strategy** Nash Equilibrium of a Normal Form Game. The function is called `solve_game`:\n",
    "\n",
    "```python\n",
    "def solve_game( game: List[List[Tuple]], weak=False) -> Tuple:\n",
    "    pass # returns strategy indices of Nash equilibrium or None.\n",
    "```\n",
    "\n",
    "and it takes two parameters: the game, in a format that we described earlier and an optional boolean flag that controls whether the algorithm considers only **strongly dominated strategies** (the default will be false) or whether it should consider **weakly dominated strategies** as well.\n",
    "\n",
    "It should work with game matrices of any size and it will return the **strategy indices** of the Nash Equilibrium. If there is no **pure strategy** equilibrium that can be found using SEDS, return `None`.\n",
    "\n",
    "\n",
    "<div style=\"background: mistyrose; color: firebrick; border: 2px solid darkred; padding: 5px; margin: 10px;\">\n",
    "Do not return the payoff. That's not useful. Return the strategy indices, any other output is incorrect.\n",
    "</div>\n",
    "\n",
    "As before, you must provide your implementation in the space below, one Markdown cell for documentation and one Code cell for implementation, one function and assertations per Codecell.\n",
    "\n",
    "\n",
    "---"
   ]
  },
  {
   "cell_type": "code",
   "execution_count": 3,
   "metadata": {},
   "outputs": [],
   "source": [
    "def payoff( game, p0, p1):\n",
    "    return game[p0][p1]"
   ]
  },
  {
   "cell_type": "code",
   "execution_count": 4,
   "metadata": {},
   "outputs": [],
   "source": [
    "assert payoff(prisoners_dilemma, 0, 0) == (-5, -5)"
   ]
  },
  {
   "cell_type": "markdown",
   "metadata": {},
   "source": [
    "Strategy matrix"
   ]
  },
  {
   "cell_type": "code",
   "execution_count": 5,
   "metadata": {},
   "outputs": [],
   "source": [
    "def strategy_matrix(game, player):\n",
    "    shape = np.array(game).shape\n",
    "    if player != 1:\n",
    "        game_=np.delete(game, 1, 2)\n",
    "        game_=game_.reshape(shape[0], shape[1], 1)\n",
    "        return game_\n",
    "    else:\n",
    "        game_=np.transpose(np.delete(game, 0, 2))\n",
    "        game_=game_.reshape(shape[0], shape[1], 1)\n",
    "        return game_"
   ]
  },
  {
   "cell_type": "markdown",
   "metadata": {},
   "source": [
    "Strategy result"
   ]
  },
  {
   "cell_type": "code",
   "execution_count": 26,
   "metadata": {},
   "outputs": [],
   "source": [
    "def strategy_result(game, payoff):\n",
    "    strategy=[]\n",
    "    for i, row in enumerate(game):\n",
    "        for j, column in enumerate(row):\n",
    "            if (column==payoff).all():\n",
    "                strategy=strategy+[(i,j)]\n",
    "     \n",
    "    return strategy[0]"
   ]
  },
  {
   "cell_type": "markdown",
   "metadata": {},
   "source": [
    "Unit test"
   ]
  },
  {
   "cell_type": "code",
   "execution_count": 21,
   "metadata": {},
   "outputs": [],
   "source": [
    "game=np.array(prisoners_dilemma)\n",
    "payoff=(-5, -5)\n",
    "assert strategy_result(game, payoff)==(0, 0)"
   ]
  },
  {
   "cell_type": "code",
   "execution_count": 27,
   "metadata": {},
   "outputs": [],
   "source": [
    "def weak_strategy_result(game, payoff):\n",
    "    strategy=[]\n",
    "    for x, row in enumerate(game):\n",
    "        for y, column in enumerate(row):\n",
    "            if (column==payoff).all():\n",
    "                strategy=strategy+[(x,y)]\n",
    "     \n",
    "    return strategy[0]"
   ]
  },
  {
   "cell_type": "code",
   "execution_count": 28,
   "metadata": {},
   "outputs": [],
   "source": [
    "def strong_dominated(strategy):\n",
    "    for i in range(len(strategy)):\n",
    "        payoff = np.delete(strategy, i, 0)\n",
    "        if np.all(payoff > strategy[i]):\n",
    "            return i\n",
    "    return None"
   ]
  },
  {
   "cell_type": "code",
   "execution_count": 29,
   "metadata": {},
   "outputs": [],
   "source": [
    "def weak_dominated(strategy):\n",
    "    for i in range(len(strategy)):\n",
    "        payoff = np.delete(strategy, i, 0)\n",
    "        if np.any(payoff > strategy[i]):\n",
    "            return i\n",
    "    return None"
   ]
  },
  {
   "cell_type": "markdown",
   "metadata": {},
   "source": [
    "Solve_game\n",
    "Pseudocode:\n",
    "1. Pickup randomly palyer\n",
    "2. while True: \n",
    "   payoff=calculte(player,game)\n",
    "   strategy=choose_strategy to maximize payoff for players\n",
    "   \n",
    "      \n"
   ]
  },
  {
   "cell_type": "code",
   "execution_count": 30,
   "metadata": {},
   "outputs": [],
   "source": [
    "def solve_game(game: List[List[Tuple]], weak:bool=False) -> Tuple:\n",
    "    k=0\n",
    "    game_=np.array(game)\n",
    "    player= np.random.randint(0,len(game)-1)\n",
    "    pr_strategy=False\n",
    "    while True or k<100:\n",
    "        if game_.shape == (1, 1, 2): \n",
    "            if weak == False: return strategy_result(game, game_)\n",
    "            if weak : return weak_strategy_result(game, game_)\n",
    "        if weak: \n",
    "            dominated_strategy = weak_dominated(strategy_matrix(game_, player))\n",
    "        if weak == False: \n",
    "            dominated_strategy = strong_dominated(strategy_matrix(game_, player))\n",
    "        if dominated_strategy is not None:\n",
    "            pr_strategy = False\n",
    "            game_ = np.delete(game_, dominated_strategy, 0)\n",
    "            game_ = np.delete(game_, dominated_strategy, 1)\n",
    "        else:\n",
    "            if pr_strategy is True:\n",
    "                return (None,None)\n",
    "            else: \n",
    "                pr_strategy = True\n",
    "        player = 0 if player == 1 else 1\n",
    "        k=k+1\n",
    "    "
   ]
  },
  {
   "cell_type": "markdown",
   "metadata": {},
   "source": [
    "## Additional Directions\n",
    "\n",
    "Create three games as described and according to the following:\n",
    "\n",
    "1. Your games must be created and solved \"by hand\".\n",
    "2. The strategy pairs must **not** be on the main diagonal (0, 0), (1, 1), or (2, 2). And the solution cannot be the same for both Game 1 and Game 2.\n",
    "3. Make sure you fill out the Markdown (\"?\") with your game as well as the solution (\"?\").\n",
    "4. Remember, **do not return the payoff**, return the strategy indices.\n",
    "\n",
    "For games that can be solved with *weak* SEDS, there may be more than one solution. You only need to return the first solution found. However, if you would like to return all solutions, you can implement `solve_game` as state space search."
   ]
  },
  {
   "cell_type": "markdown",
   "metadata": {},
   "source": [
    "### Test Game 1. Create a 3x3 two player game\n",
    "\n",
    "**that can only be solved using the Successive Elimintation of Strongly Dominated Strategies**\n",
    "\n",
    "| Player 1 / Player 2  | 0 | 1 | 2 |\n",
    "|----|----|----|----|\n",
    "|0  |(15, 14) | (20, 20) | (25, 25) |\n",
    "|1  | (15, 14) | (20, 20) | (25, 25) |\n",
    "|2  | (15, 14) | (20, 20) | (25, 25) |\n",
    "\n",
    "**Solution:** By hand? (0,2)"
   ]
  },
  {
   "cell_type": "code",
   "execution_count": 31,
   "metadata": {},
   "outputs": [
    {
     "name": "stdout",
     "output_type": "stream",
     "text": [
      "(0, 2)\n"
     ]
    }
   ],
   "source": [
    "test_game_1=  [[(15, 14), (20, 20), (25, 25)], \n",
    "              [(15, 14), (20, 20), (25, 25)],\n",
    "              [(15, 14), (20, 20), (25, 25)]]\n",
    "\n",
    "solution = solve_game(test_game_1)\n",
    "print(solution)"
   ]
  },
  {
   "cell_type": "code",
   "execution_count": 32,
   "metadata": {},
   "outputs": [],
   "source": [
    "assert solution == (0, 2) # insert your solution from above."
   ]
  },
  {
   "cell_type": "markdown",
   "metadata": {},
   "source": [
    "### Test Game 2. Create a 3x3 two player game\n",
    "\n",
    "**that can only be solved using the Successive Elimintation of Weakly Dominated Strategies**\n",
    "\n",
    "| Player 1 / Player 2  | 0 | 1 | 2 |\n",
    "|----|----|----|----|\n",
    "|0  | (10,25) | (15,30) | (5,5) |\n",
    "|1  | (10,25) | (15,30) | (0,0) |\n",
    "|2  | (10,25) | (15,30) | (5,5) |\n",
    "\n",
    "**Solution:** (0,1) for strong, (0,0) for weak"
   ]
  },
  {
   "cell_type": "code",
   "execution_count": 33,
   "metadata": {},
   "outputs": [
    {
     "name": "stdout",
     "output_type": "stream",
     "text": [
      "(0, 1)\n",
      "(0, 2)\n"
     ]
    }
   ],
   "source": [
    "test_game_2 = [[(10, 25), (15, 30), (5, 5)], \n",
    "              [(10, 25), (15, 30), (0, 0)],\n",
    "              [(10, 25), (15, 30), (5, 5)]]\n",
    "\n",
    "strong_solution = solve_game( test_game_2)\n",
    "print(strong_solution)\n",
    "weak_solution = solve_game( test_game_2, weak=True)\n",
    "print(weak_solution)"
   ]
  },
  {
   "cell_type": "code",
   "execution_count": 34,
   "metadata": {},
   "outputs": [],
   "source": [
    "assert strong_solution == (0,1)\n",
    "assert weak_solution ==(0,0) or  weak_solution ==(0,2)"
   ]
  },
  {
   "cell_type": "markdown",
   "metadata": {},
   "source": [
    "### Test Game 3. Create a 3x3 two player game\n",
    "\n",
    "**that cannot be solved using the Successive Elimintation of Dominated Strategies at all**\n",
    "\n",
    "| Player 1 / Player 2  | 0 | 1 | 2 |\n",
    "|----|----|----|----|\n",
    "|0  | (10,10) | (22,12) | (14,15) |\n",
    "|1  | (12,22) | (20,20) | (28,15) |\n",
    "|2  | (15,14) | (15,28) | (5,5) |\n",
    "\n",
    "**Solution:**(None,Noe)"
   ]
  },
  {
   "cell_type": "code",
   "execution_count": 35,
   "metadata": {},
   "outputs": [],
   "source": [
    "test_game_3 = [[(10, 10), (22, 12), (14, 15)], \n",
    "                  [(12, 22), (20, 20), (28, 15)],\n",
    "                  [(15, 14), (15, 28), (5, 5)]]\n",
    "\n",
    "strong_solution = solve_game( test_game_3)\n",
    "weak_solution = solve_game( test_game_3, weak=True)\n"
   ]
  },
  {
   "cell_type": "code",
   "execution_count": 36,
   "metadata": {},
   "outputs": [],
   "source": [
    "assert strong_solution == (None,None)\n",
    "assert weak_solution == (1,1)"
   ]
  },
  {
   "cell_type": "markdown",
   "metadata": {},
   "source": [
    "## Before You Submit...\n",
    "\n",
    "1. Did you provide output exactly as requested? **Don't forget to fill out the Markdown tables with your games**.\n",
    "2. Did you re-execute the entire notebook? (\"Restart Kernel and Rull All Cells...\")\n",
    "3. If you did not complete the assignment or had difficulty please explain what gave you the most difficulty in the Markdown cell below.\n",
    "4. Did you change the name of the file to `jhed_id.ipynb`?\n",
    "\n",
    "Do not submit any other files."
   ]
  },
  {
   "cell_type": "markdown",
   "metadata": {},
   "source": []
  },
  {
   "cell_type": "code",
   "execution_count": null,
   "metadata": {},
   "outputs": [],
   "source": []
  },
  {
   "cell_type": "code",
   "execution_count": null,
   "metadata": {},
   "outputs": [],
   "source": []
  },
  {
   "cell_type": "code",
   "execution_count": null,
   "metadata": {},
   "outputs": [],
   "source": []
  }
 ],
 "metadata": {
  "kernelspec": {
   "display_name": "Python 3 (ipykernel)",
   "language": "python",
   "name": "python3"
  },
  "language_info": {
   "codemirror_mode": {
    "name": "ipython",
    "version": 3
   },
   "file_extension": ".py",
   "mimetype": "text/x-python",
   "name": "python",
   "nbconvert_exporter": "python",
   "pygments_lexer": "ipython3",
   "version": "3.9.13"
  },
  "toc": {
   "colors": {
    "hover_highlight": "#DAA520",
    "navigate_num": "#000000",
    "navigate_text": "#333333",
    "running_highlight": "#FF0000",
    "selected_highlight": "#FFD700",
    "sidebar_border": "#EEEEEE",
    "wrapper_background": "#FFFFFF"
   },
   "moveMenuLeft": true,
   "nav_menu": {
    "height": "135px",
    "width": "252px"
   },
   "navigate_menu": true,
   "number_sections": true,
   "sideBar": true,
   "threshold": 4,
   "toc_cell": false,
   "toc_section_display": "block",
   "toc_window_display": false,
   "widenNotebook": false
  }
 },
 "nbformat": 4,
 "nbformat_minor": 4
}
